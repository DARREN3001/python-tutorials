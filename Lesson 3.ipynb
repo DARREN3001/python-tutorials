{
 "cells": [
  {
   "cell_type": "markdown",
   "metadata": {},
   "source": [
    "# Lists and Strings\n",
    "\n",
    "## Lists \n",
    "\n",
    "Lists are used for storing data of multiple data types together as one entity. Objects inside list can be accesed using index. Python list use 0-based indexing, which means the first element is referred as 0th object of the list.\n",
    "\n",
    "***\n",
    "* ### List declaration"
   ]
  },
  {
   "cell_type": "code",
   "execution_count": 1,
   "metadata": {},
   "outputs": [
    {
     "name": "stdout",
     "output_type": "stream",
     "text": [
      "\n",
      " List of integers:  [1, 2, 3]\n",
      "\n",
      " List of strings:  ['apples', 'oranges', 'banana']\n",
      "\n",
      " List of different datatypes:  ['john', 16, 18.897, 'This is a sentence']\n"
     ]
    }
   ],
   "source": [
    "list_integers = [1,2,3]\n",
    "print(\"\\n List of integers: \", list_integers)\n",
    "\n",
    "list_fruits = [\"apples\",\"oranges\",\"banana\"]\n",
    "print(\"\\n List of strings: \",list_fruits)\n",
    "\n",
    "list_combine = [\"john\",16,18.897,\"This is a sentence\"]\n",
    "print(\"\\n List of different datatypes: \",list_combine)"
   ]
  },
  {
   "cell_type": "code",
   "execution_count": 9,
   "metadata": {},
   "outputs": [
    {
     "name": "stdout",
     "output_type": "stream",
     "text": [
      "Second element in list of fruits is:  oranges\n",
      "Second Last element of list_combined is:  18.897\n"
     ]
    }
   ],
   "source": [
    "# Accessing List elements\n",
    "print(\"Second element in list of fruits is: \", list_fruits[1])\n",
    "\n",
    "# Accesing elements from end\n",
    "print(\"Second Last element of list_combined is: \", list_combine[-2])\n",
    "\n",
    "#Note: 0 refers first element and -1 refers last element"
   ]
  },
  {
   "cell_type": "markdown",
   "metadata": {},
   "source": [
    "* ### List within Lists"
   ]
  },
  {
   "cell_type": "code",
   "execution_count": 4,
   "metadata": {},
   "outputs": [
    {
     "name": "stdout",
     "output_type": "stream",
     "text": [
      "Contents of list_3 are:  ['apples', [1, 2, 3], [4, 5, 6]]\n"
     ]
    }
   ],
   "source": [
    "list_1 = [1,2,3]\n",
    "list_2 = [4,5,6]\n",
    "list_3 = [\"apples\", list_1, list_2]\n",
    "\n",
    "print(\"Contents of list_3 are: \", list_3 )"
   ]
  },
  {
   "cell_type": "code",
   "execution_count": 6,
   "metadata": {},
   "outputs": [
    {
     "name": "stdout",
     "output_type": "stream",
     "text": [
      "Accessing elements of lists inside list:  3\n"
     ]
    }
   ],
   "source": [
    "# Accessing elements inside nested list\n",
    "print(\"Accessing elements of lists inside list: \", list_3[1][2])"
   ]
  },
  {
   "cell_type": "markdown",
   "metadata": {},
   "source": [
    "* ### Slicing of Lists"
   ]
  },
  {
   "cell_type": "code",
   "execution_count": 10,
   "metadata": {},
   "outputs": [
    {
     "name": "stdout",
     "output_type": "stream",
     "text": [
      "Main list:  [1, 2, 3, 4, 5, 6, 7, 8, 9]\n",
      "Segemented List first 5 elements:  [1, 2, 3, 4, 5]\n",
      "Segemented Last 4 elements:  [6, 7, 8, 9]\n"
     ]
    }
   ],
   "source": [
    "list_1 = [1,2,3,4,5,6,7,8,9]\n",
    "print(\"Main list: \", list_1)\n",
    "\n",
    "list_2 = list_1[0:5]\n",
    "print(\"Segemented List first 5 elements: \", list_2)\n",
    "\n",
    "list_3 = list_1[5:9]\n",
    "print(\"Segemented Last 4 elements: \", list_3)"
   ]
  },
  {
   "cell_type": "markdown",
   "metadata": {},
   "source": [
    "* ### List Operations"
   ]
  },
  {
   "cell_type": "code",
   "execution_count": 12,
   "metadata": {},
   "outputs": [
    {
     "name": "stdout",
     "output_type": "stream",
     "text": [
      "\n",
      " List 1:  [1, 2, 3, 4]\n",
      "\n",
      " List 2:  [5, 6, 7, 8, 9]\n",
      "\n",
      " Added List:  [1, 2, 3, 4, 5, 6, 7, 8, 9]\n",
      "\n",
      " List multiplied:  [1, 2, 3, 4, 1, 2, 3, 4]\n"
     ]
    }
   ],
   "source": [
    "list_1 = [1,2,3,4]\n",
    "print(\"\\n List 1: \", list_1)\n",
    "\n",
    "list_2 = [5,6,7,8,9]\n",
    "print(\"\\n List 2: \", list_2)\n",
    "\n",
    "\n",
    "list_3 = list_1 + list_2\n",
    "print(\"\\n Added List: \", list_3)\n",
    "\n",
    "list_4 = list_1 * 2\n",
    "print(\"\\n List multiplied: \", list_4)\n",
    "#Doubles the elements in lists"
   ]
  },
  {
   "cell_type": "markdown",
   "metadata": {},
   "source": [
    "* ### List Methods"
   ]
  },
  {
   "cell_type": "code",
   "execution_count": 25,
   "metadata": {},
   "outputs": [
    {
     "name": "stdout",
     "output_type": "stream",
     "text": [
      "Index:  1\n",
      "Count:  3\n",
      "Updated list:  [1, 2, 3, 1, 4, 5, 1, 9, 10]\n",
      "Element removed:  [1, 2, 3, 1, 4, 5, 1, 10]\n",
      "Elements removed:  [3, 1, 4, 5, 1, 10]\n",
      "Reversed list:  [10, 1, 5, 4, 1, 3]\n",
      "Elements removed:  [10, 1, 5, 4, 1]\n",
      "Sorted List:  [1, 1, 4, 5, 10]\n"
     ]
    }
   ],
   "source": [
    "my_list = [1,2,3,1,4,5,1]\n",
    "\n",
    "# Get the index of item:\n",
    "print(\"Index: \", my_list.index(2))\n",
    "\n",
    "#  Get the count of an item:\n",
    "print(\"Count: \",my_list.count(1))\n",
    "\n",
    "# Append elements to list at end:\n",
    "my_list.append(9)\n",
    "my_list.extend([10])\n",
    "print(\"Updated list: \", my_list)\n",
    "\n",
    "# Remove element at end:\n",
    "my_list.remove(9)\n",
    "print(\"Element removed: \",my_list)\n",
    "\n",
    "#Remove multiple elements:\n",
    "del(my_list[0:2])\n",
    "print(\"Elements removed: \",my_list)\n",
    "\n",
    "# Reverse the list:\n",
    "my_list.reverse()\n",
    "print(\"Reversed list: \", my_list)\n",
    "\n",
    "#Remove an item\n",
    "my_list.pop(-1)\n",
    "print(\"Elements removed: \",my_list)\n",
    "\n",
    "#Sort the list\n",
    "my_list.sort()\n",
    "print(\"Sorted List: \",my_list)"
   ]
  },
  {
   "cell_type": "markdown",
   "metadata": {},
   "source": [
    "## Strings\n",
    "\n",
    "\n",
    "***"
   ]
  },
  {
   "cell_type": "code",
   "execution_count": 30,
   "metadata": {},
   "outputs": [
    {
     "name": "stdout",
     "output_type": "stream",
     "text": [
      "String:  thisStringIsAwesome\n",
      "Doubled string:  thisStringIsAwesomethisStringIsAwesome\n",
      "Updated String:  thisStringIsAwesome Adding to old string\n",
      "Yes\n"
     ]
    }
   ],
   "source": [
    "my_string = 'thisStringIsAwesome'\n",
    "print(\"String: \",my_string)\n",
    "\n",
    "\n",
    "double_string = my_string * 2\n",
    "print(\"Doubled string: \", double_string)\n",
    "\n",
    "my_string += \" Adding to old string\"\n",
    "print(\"Updated String: \", my_string)\n",
    "\n",
    "\n",
    "if \"Awesome\" in my_string:\n",
    "    print(\"Yes\")"
   ]
  },
  {
   "cell_type": "markdown",
   "metadata": {},
   "source": [
    "* ### String operation"
   ]
  },
  {
   "cell_type": "code",
   "execution_count": 34,
   "metadata": {},
   "outputs": [
    {
     "name": "stdout",
     "output_type": "stream",
     "text": [
      "uppercase:  This is new String\n",
      "lowercase:  This is new String\n",
      "Count appearance of an element:  1\n",
      "Replace elements:  This is new String\n",
      "Striped string:   this is a unstriped list \n"
     ]
    }
   ],
   "source": [
    "my_string = \"This is new String\"\n",
    "\n",
    "#String to uppercase:\n",
    "my_string.upper()\n",
    "print(\"uppercase: \",my_string)\n",
    "\n",
    "# String to lowercase:\n",
    "my_string.lower()\n",
    "print(\"lowercase: \",my_string)\n",
    "\n",
    "# Count appearance of an element\n",
    "print(\"Count appearance of an element: \",my_string.count('w'))\n",
    "\n",
    "#Replace elements\n",
    "my_string.replace('e', 'i')\n",
    "print(\"Replace elements: \",my_string)\n",
    "\n",
    "# Strip removes extra spaces from start and end\n",
    "my_string2 = \"aaaa this is a unstriped list aa\"\n",
    "print(\"Striped string: \",my_string2.strip(\"a\"))"
   ]
  },
  {
   "cell_type": "code",
   "execution_count": null,
   "metadata": {
    "collapsed": true
   },
   "outputs": [],
   "source": []
  }
 ],
 "metadata": {
  "kernelspec": {
   "display_name": "Python 3",
   "language": "python",
   "name": "python3"
  },
  "language_info": {
   "codemirror_mode": {
    "name": "ipython",
    "version": 3
   },
   "file_extension": ".py",
   "mimetype": "text/x-python",
   "name": "python",
   "nbconvert_exporter": "python",
   "pygments_lexer": "ipython3",
   "version": "3.6.3"
  }
 },
 "nbformat": 4,
 "nbformat_minor": 2
}
