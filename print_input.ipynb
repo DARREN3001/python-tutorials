{
 "cells": [
  {
   "cell_type": "markdown",
   "metadata": {},
   "source": [
    "# Python Print function, String and Variables\n",
    "NOTE: '__#__' is used in python for single line comments and triple quotes (''' or \"\"\") are used to mutli-line comments\n",
    "\n",
    "## print function\n",
    "***\n",
    "\n",
    ">print( )\n",
    "\n",
    "The print function in Python is a function that outputs to your console window whatever you say you want to print out. It is actually one of the most widely used functions in all of python. The reason for this is that it makes for a great debugging tool.\n",
    "\n",
    "\"Debugging\" is the term given to the act of finding, removing, and fixing errors and mistakes within code.\n",
    "\n",
    "If something isn't acting right, you can use the print function to print out what is happening in the program. Many times, you expect a certain variable to be one thing, but you cannot see what the program sees. If you print out the variable, you might see that what you thought was, was not.\n",
    "\n"
   ]
  },
  {
   "cell_type": "markdown",
   "metadata": {},
   "source": [
    "There are a number of ways in which a print function can be used. Syntax is always the same but little bit changes depending upon what we are trying to print.\n",
    "\n",
    "> print(\"hello\")\n",
    "\n",
    "> print(\"hello\" + \"there\")\n",
    "\n",
    "> print(\"hello\",\"world\")\n",
    "\n",
    "> print(5)\n",
    "\n",
    "> print(5+9)\n",
    "\n",
    "> print(9/2)\n",
    "\n",
    "> print(172.782)"
   ]
  },
  {
   "cell_type": "markdown",
   "metadata": {},
   "source": [
    "* ### printing a statement: anything inside quotes are directly printed"
   ]
  },
  {
   "cell_type": "code",
   "execution_count": 3,
   "metadata": {},
   "outputs": [
    {
     "name": "stdout",
     "output_type": "stream",
     "text": [
      "Hello world, this function prints anything written inside quotes\n",
      "Even single quotes work fine!\n"
     ]
    }
   ],
   "source": [
    "#prints everything inside quotes\n",
    "print(\"Hello world, this function prints anything written inside quotes\")\n",
    "print('Even single quotes work fine!')"
   ]
  },
  {
   "cell_type": "markdown",
   "metadata": {},
   "source": [
    ">You can print two strings inside a single print. Strings can be concatenated using '__,__'(comma) or '__+__'(plus)\n",
    "Difference between the two is, using '__+__' won't add a space between two strings and just stick them together while '__,__' would add a space between the two strings.\n",
    "\n",
    ">It's not limited to just two strings, any number of strings can be concatenated. As we see later we can even concatenate variable values to strings for printing results."
   ]
  },
  {
   "cell_type": "code",
   "execution_count": 4,
   "metadata": {},
   "outputs": [
    {
     "name": "stdout",
     "output_type": "stream",
     "text": [
      "helloworld\n",
      "hello world\n"
     ]
    }
   ],
   "source": [
    "print(\"hello\"+\"world\")     #No space added while attaching strings\n",
    "print(\"hello\",\"world\")     #Space is added while printing"
   ]
  },
  {
   "cell_type": "markdown",
   "metadata": {},
   "source": [
    "* ### printing numbers, numbers with strings, performing operations"
   ]
  },
  {
   "cell_type": "code",
   "execution_count": 16,
   "metadata": {},
   "outputs": [
    {
     "name": "stdout",
     "output_type": "stream",
     "text": [
      "5\n",
      "19.768\n",
      "21\n",
      "30\n",
      "4.5\n",
      "4\n"
     ]
    }
   ],
   "source": [
    "#prints any integer or floating decimal\n",
    "print(5)            #same for both integer and float\n",
    "print(19.768)\n",
    "\n",
    "#Can even perform calulations inside print\n",
    "print(16+5)  #note: doesn't print 165\n",
    "print(5*6)\n",
    "print(9/2)\n",
    "print(9//2)\n",
    "\n",
    "#NOTE: Dividing using single '/' gives results as a float value whereas using '//' gives floored integer value"
   ]
  },
  {
   "cell_type": "code",
   "execution_count": 10,
   "metadata": {},
   "outputs": [
    {
     "name": "stdout",
     "output_type": "stream",
     "text": [
      "Hi 5\n",
      "hi5\n"
     ]
    }
   ],
   "source": [
    "#prints string and integer in one line\n",
    "\n",
    "print(\"Hi\",5)\n",
    "\n",
    "#But, you can't add a string and a integer, therefore '+' wont work\n",
    "#print(\"hi\"+5)   WRONG SYNTAX\n",
    "\n",
    "#RIGHT SYNTAX FOR PRINTING NUMBER + STRING\n",
    "\n",
    "print(\"hi\"+str(5))   # str() converts any interger to string, which can be concatenated with other strings\n"
   ]
  },
  {
   "cell_type": "markdown",
   "metadata": {},
   "source": [
    "* ### printing from variables"
   ]
  },
  {
   "cell_type": "markdown",
   "metadata": {},
   "source": [
    "A variable can be defined as 'variable_name = 5(value)'.\n",
    "More on variables later, right now we just focusing on print function"
   ]
  },
  {
   "cell_type": "code",
   "execution_count": 12,
   "metadata": {},
   "outputs": [
    {
     "name": "stdout",
     "output_type": "stream",
     "text": [
      "10\n",
      "var_name 10\n",
      "var_name = 10\n"
     ]
    }
   ],
   "source": [
    "#prints value of a variable\n",
    "\n",
    "var_name = 10\n",
    "print(var_name)\n",
    "\n",
    "# Note: using quotes will result in printing the 'var_name' as a string\n",
    "\n",
    "print(\"var_name\",var_name)\n",
    "# OR\n",
    "print('var_name = ' + str(var_name))"
   ]
  },
  {
   "cell_type": "markdown",
   "metadata": {},
   "source": [
    "* ### printing multiple times"
   ]
  },
  {
   "cell_type": "code",
   "execution_count": 14,
   "metadata": {},
   "outputs": [
    {
     "name": "stdout",
     "output_type": "stream",
     "text": [
      "hello hello hello hello hello \n"
     ]
    }
   ],
   "source": [
    "#prints string 5 times\n",
    "\n",
    "print(\"hello \"*5)\n",
    "#Note this will not work for integers as it will multiply and print the product"
   ]
  },
  {
   "cell_type": "markdown",
   "metadata": {},
   "source": [
    "## Variables\n",
    "***"
   ]
  },
  {
   "cell_type": "markdown",
   "metadata": {},
   "source": [
    "> var_name1 = \"Hello\"\n",
    "\n",
    "> var_name2 = 5\n",
    "\n",
    "> var_name3 = 1123.12312"
   ]
  },
  {
   "cell_type": "markdown",
   "metadata": {},
   "source": [
    "In almost every single Python program you write, you will have variables. Variables act as placeholders for data. They can aid in short hand, as well as with logic, as variables can change, hence their name.\n",
    "\n",
    "Variables help programs become much more dynamic, and allow a program to always reference a value in one spot, rather than the programmer needing to repeatedly type it out, and, worse, change it if they decide to use a different definition for it.\n",
    "\n",
    "Variables can be called just about whatever you want. You wouldn't want them to conflict with function names, and they also cannot start with a number.\n",
    "\n",
    "You want to be careful what you name variables, classes (discussed later), and functions (discussed later), so that they do not have the same names as eachother.\n",
    "\n",
    "For example, you have leared about the print function. What if you go and define a variable named print?\n",
    "\n",
    "Say, for example, you do:\n",
    "\n",
    "print = print(\"Uh oh!\")\n",
    "\n",
    "Now you have a variable and a function named print, which can cause trouble down the road!\n"
   ]
  },
  {
   "cell_type": "markdown",
   "metadata": {},
   "source": [
    "> var_name4 = 7/4\n",
    "\n",
    "We can even store a variable to our variable, or an operation with our variables to a variable. Something like **var3 = (var2/var1)** would work. You can store other things, like functions, as well to variables. More on that later!\n",
    "\n",
    "Try playing with variables in the console provided by Python installation. "
   ]
  },
  {
   "cell_type": "markdown",
   "metadata": {},
   "source": [
    "## Input Function : taking user input\n",
    "***\n",
    "\n",
    "> input()\n",
    "\n",
    "> input(\" Enter data: \")\n",
    "\n",
    "* ### Taking user input"
   ]
  },
  {
   "cell_type": "code",
   "execution_count": 3,
   "metadata": {},
   "outputs": [
    {
     "name": "stdout",
     "output_type": "stream",
     "text": [
      "John\n",
      "John\n"
     ]
    }
   ],
   "source": [
    "name = input()  #takes input from user and stores data into 'name' variable\n",
    "print(name)     #print contents of name(variable)"
   ]
  },
  {
   "cell_type": "markdown",
   "metadata": {},
   "source": [
    "> We can add a small message to be prompted for making user know that console is waiting for input\n",
    "\n",
    "> Similar to print(), we can print the prompt by passing the message inside braces."
   ]
  },
  {
   "cell_type": "code",
   "execution_count": 5,
   "metadata": {},
   "outputs": [
    {
     "name": "stdout",
     "output_type": "stream",
     "text": [
      "Enter your name here: shubham\n",
      "shubham\n"
     ]
    }
   ],
   "source": [
    "name = input(\"Enter your name here: \")\n",
    "print(name)"
   ]
  },
  {
   "cell_type": "markdown",
   "metadata": {},
   "source": [
    "> The most important thing to note about print function is it takes input data and converts it into string. Even if an integer or a float is passed, it is converted into a string and then stored into the variable.\n",
    "\n",
    "> For handling integers or taking input in other datatypes like float, complex etc then we have to explicitly convert the input() into that data type."
   ]
  },
  {
   "cell_type": "code",
   "execution_count": 7,
   "metadata": {},
   "outputs": [
    {
     "name": "stdout",
     "output_type": "stream",
     "text": [
      "Enter a integer value: 67\n",
      "Enter a float value: 12.45\n",
      "Enter a complex value: 2+5j\n",
      "67\n",
      "12.45\n",
      "(2+5j)\n"
     ]
    }
   ],
   "source": [
    "var_int = int(input(\"Enter a integer value: \"))\n",
    "var_float = float(input(\"Enter a float value: \"))\n",
    "var_complex = complex(input(\"Enter a complex value: \"))\n",
    "\n",
    "print(var_int)\n",
    "print(var_float)\n",
    "print(var_complex)"
   ]
  },
  {
   "cell_type": "markdown",
   "metadata": {},
   "source": [
    "### That's all about strings, variables and print and input function. Play around with these code and try to make your own programs. For executing python code from terminal or cmd prompt, go to the directory where the python file is stored and type:\n",
    "\n",
    "> python filename.py"
   ]
  },
  {
   "cell_type": "markdown",
   "metadata": {},
   "source": [
    "### Thank you for reading. Once you feel comfortable with them, proceed to the next tutorial.\n",
    "\n",
    ">If you have any queries or suggestions to improve this tutorial please contact me [here](www.skillconnect.wixsite.com/home) or you can connect me on [linkedin](linkedin.com/shubham99bisht)"
   ]
  },
  {
   "cell_type": "code",
   "execution_count": null,
   "metadata": {
    "collapsed": true
   },
   "outputs": [],
   "source": []
  }
 ],
 "metadata": {
  "kernelspec": {
   "display_name": "Python 3",
   "language": "python",
   "name": "python3"
  },
  "language_info": {
   "codemirror_mode": {
    "name": "ipython",
    "version": 3
   },
   "file_extension": ".py",
   "mimetype": "text/x-python",
   "name": "python",
   "nbconvert_exporter": "python",
   "pygments_lexer": "ipython3",
   "version": "3.6.3"
  }
 },
 "nbformat": 4,
 "nbformat_minor": 2
}
