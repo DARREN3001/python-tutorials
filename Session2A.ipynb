{
 "cells": [
  {
   "cell_type": "markdown",
   "metadata": {},
   "source": [
    "# Session II-A\n",
    "\n",
    "### **   Lists, Sets, Tuples, Dictionaries**\n",
    "---"
   ]
  },
  {
   "cell_type": "markdown",
   "metadata": {},
   "source": [
    "## Lists \n",
    "\n",
    "Lists are used for storing data of multiple data types together as one entity. Objects inside list can be accesed using index. Python list use 0-based indexing, which means the first element is referred as 0th object of the list.\n",
    "\n",
    "***\n",
    "### List declaration"
   ]
  },
  {
   "cell_type": "code",
   "execution_count": null,
   "metadata": {},
   "outputs": [],
   "source": [
    "list_integers = [1,2,3]\n",
    "print(\"\\n List of integers: \", list_integers)\n",
    "\n",
    "list_fruits = [\"apples\",\"oranges\",\"banana\"]\n",
    "print(\"\\n List of strings: \",list_fruits)\n",
    "\n",
    "list_combine = [\"john\",16,18.897,\"This is a sentence\"]\n",
    "print(\"\\n List of different datatypes: \",list_combine)"
   ]
  },
  {
   "cell_type": "code",
   "execution_count": null,
   "metadata": {},
   "outputs": [],
   "source": [
    "# Accessing List elements\n",
    "print(\"Second element in list of fruits is: \", list_fruits[1])\n",
    "\n",
    "# Accesing elements from end\n",
    "print(\"Second Last element of list_combined is: \", list_combine[-2])\n",
    "\n",
    "#Note: 0 refers first element and -1 refers last element"
   ]
  },
  {
   "cell_type": "markdown",
   "metadata": {},
   "source": [
    "* ### List within Lists"
   ]
  },
  {
   "cell_type": "code",
   "execution_count": null,
   "metadata": {},
   "outputs": [],
   "source": [
    "list_1 = [1,2,3]\n",
    "list_2 = [4,5,6]\n",
    "list_3 = [\"apples\", list_1, list_2]\n",
    "\n",
    "print(\"Contents of list_3 are: \", list_3 )"
   ]
  },
  {
   "cell_type": "code",
   "execution_count": null,
   "metadata": {},
   "outputs": [],
   "source": [
    "# Accessing elements inside nested list\n",
    "print(\"Accessing elements of lists inside list: \", list_3[1][2])"
   ]
  },
  {
   "cell_type": "markdown",
   "metadata": {},
   "source": [
    "* ### Slicing of Lists"
   ]
  },
  {
   "cell_type": "code",
   "execution_count": null,
   "metadata": {},
   "outputs": [],
   "source": [
    "list_1 = [1,2,3,4,5,6,7,8,9]\n",
    "print(\"Main list: \", list_1)\n",
    "\n",
    "list_2 = list_1[0:5]\n",
    "print(\"Segemented List first 5 elements: \", list_2)\n",
    "\n",
    "list_3 = list_1[5:9]\n",
    "print(\"Segemented Last 4 elements: \", list_3)"
   ]
  },
  {
   "cell_type": "markdown",
   "metadata": {},
   "source": [
    "* ### List Operations"
   ]
  },
  {
   "cell_type": "code",
   "execution_count": null,
   "metadata": {},
   "outputs": [],
   "source": [
    "list_1 = [1,2,3,4]\n",
    "print(\"\\n List 1: \", list_1)\n",
    "\n",
    "list_2 = [5,6,7,8,9]\n",
    "print(\"\\n List 2: \", list_2)\n",
    "\n",
    "\n",
    "list_3 = list_1 + list_2\n",
    "print(\"\\n Added List: \", list_3)\n",
    "\n",
    "list_4 = list_1 * 2\n",
    "print(\"\\n List multiplied: \", list_4)\n",
    "#Doubles the elements in lists"
   ]
  },
  {
   "cell_type": "markdown",
   "metadata": {},
   "source": [
    "* ### List Methods"
   ]
  },
  {
   "cell_type": "code",
   "execution_count": null,
   "metadata": {},
   "outputs": [],
   "source": [
    "my_list = [1,2,3,1,4,5,1]\n",
    "\n",
    "# Get the index of item:\n",
    "print(\"Index: \", my_list.index(2))\n",
    "\n",
    "#  Get the count of an item:\n",
    "print(\"Count: \",my_list.count(1))\n",
    "\n",
    "# Append elements to list at end:\n",
    "my_list.append(9)\n",
    "my_list.extend([10])\n",
    "print(\"Updated list: \", my_list)\n",
    "\n",
    "# Remove element at end:\n",
    "my_list.remove(9)\n",
    "print(\"Element removed: \",my_list)\n",
    "\n",
    "#Remove multiple elements:\n",
    "del(my_list[0:2])\n",
    "print(\"Elements removed: \",my_list)\n",
    "\n",
    "# Reverse the list:\n",
    "my_list.reverse()\n",
    "print(\"Reversed list: \", my_list)\n",
    "\n",
    "#Remove an item\n",
    "my_list.pop(-1)\n",
    "print(\"Elements removed: \",my_list)\n",
    "\n",
    "#Sort the list\n",
    "my_list.sort()\n",
    "print(\"Sorted List: \",my_list)"
   ]
  },
  {
   "cell_type": "markdown",
   "metadata": {},
   "source": [
    "## Sets"
   ]
  },
  {
   "cell_type": "markdown",
   "metadata": {},
   "source": [
    "A Set is an unordered collection data type that is iterable, mutable, and has no duplicate elements. Python’s set class represents the mathematical notion of a set. The major advantage of using a set, as opposed to a list, is that it has a highly optimized method for checking whether a specific element is contained in the set. This is based on a data structure known as a hash table.\n",
    "\n",
    "**Note: *Frozen Sets* are immutable objects that only support methods and operators that produce a result without affecting the frozen set or sets to which they are applied.**\n",
    "___"
   ]
  },
  {
   "cell_type": "markdown",
   "metadata": {},
   "source": [
    "### Create Set & Access Items"
   ]
  },
  {
   "cell_type": "code",
   "execution_count": null,
   "metadata": {},
   "outputs": [],
   "source": [
    "thisset = {\"apple\", \"banana\", \"cherry\"}\n",
    "print(thisset)\n",
    "\n",
    "print(\"banana\" in thisset)"
   ]
  },
  {
   "cell_type": "markdown",
   "metadata": {},
   "source": [
    "### Change Items\n",
    "Once a set is created, you **cannot change** its items, but you can **add new items.**"
   ]
  },
  {
   "cell_type": "code",
   "execution_count": null,
   "metadata": {},
   "outputs": [],
   "source": [
    "# Add Items\n",
    "# To add one item to a set use the add() method.\n",
    "# To add more than one item to a set use the update() method.\n",
    "\n",
    "thisset.add(\"orange\")\n",
    "print(thisset)\n",
    "\n",
    "thisset.update([\"orange\", \"mango\", \"grapes\"])\n",
    "print(thisset)"
   ]
  },
  {
   "cell_type": "markdown",
   "metadata": {},
   "source": [
    "### Get the number of items in a set ( Length of set ):"
   ]
  },
  {
   "cell_type": "code",
   "execution_count": null,
   "metadata": {},
   "outputs": [],
   "source": [
    "print(thisset)\n",
    "print(\"Length of set: \",len(thisset))"
   ]
  },
  {
   "cell_type": "markdown",
   "metadata": {},
   "source": [
    "### Remove Item"
   ]
  },
  {
   "cell_type": "code",
   "execution_count": null,
   "metadata": {},
   "outputs": [],
   "source": [
    "# To remove an item in a set, use the remove(), or the discard() method.\n",
    "\n",
    "print(thisset)\n",
    "\n",
    "thisset.remove(\"banana\")\n",
    "print(thisset)\n",
    "\n",
    "# Note: If the item to remove does not exist, remove() WILL raise an error. Uncommenting below lines would cause error.\n",
    "# thisset.remove(\"banana\")\n",
    "# print(thisset)\n",
    "\n",
    "thisset.discard(\"orange\")\n",
    "print(thisset)\n",
    "\n",
    "# Note: If the item to remove does not exist, discard() will NOT raise an error.\n",
    "thisset.discard(\"orange\")\n",
    "print(thisset)"
   ]
  },
  {
   "cell_type": "markdown",
   "metadata": {},
   "source": [
    "**Important Note:** You can also use the pop(), method to remove an item, but this method will remove the last item. Remember that sets are unordered, so you will not know what item that gets removed.\n",
    "The return value of the pop() method is the removed item."
   ]
  },
  {
   "cell_type": "markdown",
   "metadata": {},
   "source": [
    "### The clear() method empties the set:"
   ]
  },
  {
   "cell_type": "code",
   "execution_count": null,
   "metadata": {},
   "outputs": [],
   "source": [
    "thisset = {\"apple\", \"banana\", \"cherry\"}\n",
    "thisset.clear()\n",
    "print(thisset)"
   ]
  },
  {
   "cell_type": "markdown",
   "metadata": {},
   "source": [
    "### The del keyword will delete the set completely:"
   ]
  },
  {
   "cell_type": "code",
   "execution_count": null,
   "metadata": {},
   "outputs": [],
   "source": [
    "thisset = {\"apple\", \"banana\", \"cherry\"}\n",
    "del thisset\n",
    "print(thisset)"
   ]
  },
  {
   "cell_type": "markdown",
   "metadata": {},
   "source": [
    "### The set() Constructor\n",
    "It is also possible to use the set() constructor to make a set."
   ]
  },
  {
   "cell_type": "code",
   "execution_count": null,
   "metadata": {},
   "outputs": [],
   "source": [
    "my_list = [\"apple\", \"banana\", \"cherry\"]\n",
    "thisset = set(my_list) \n",
    "print(thisset)"
   ]
  },
  {
   "cell_type": "markdown",
   "metadata": {},
   "source": [
    "### Set Methods\n",
    "**Python has a set of built-in methods that you can use on sets.**"
   ]
  },
  {
   "cell_type": "code",
   "execution_count": null,
   "metadata": {
    "collapsed": true
   },
   "outputs": [],
   "source": [
    "'''\n",
    "**Method**\t                   **Description**\n",
    "\n",
    "add()                           Adds an element to the set \n",
    "clear()\t                        Removes all the elements from the set\n",
    "copy()                          Returns a copy of the set\n",
    "difference()                    Returns a set containing the difference between two or more sets\n",
    "difference_update()             Removes the items in this set that are also included in another, specified set\n",
    "discard()                       Remove the specified item\n",
    "intersection()\t                Returns a set, that is the intersection of two other sets\n",
    "intersection_update()\t        Removes the items in this set that are not present in other, specified set(s)\n",
    "isdisjoint()                    Returns whether two sets have a intersection or not\n",
    "issubset()                      Returns whether another set contains this set or not\n",
    "issuperset()\t                Returns whether this set contains another set or not\n",
    "pop()\t                        Removes an element from the set\n",
    "remove()                        Removes the specified element\n",
    "symmetric_difference()\t        Returns a set with the symmetric differences of two sets\n",
    "symmetric_difference_update()\tinserts the symmetric differences from this set and another\n",
    "union()\t                        Return a set containing the union of sets\n",
    "update()                        Update the set with the union of this set and others\n",
    "'''"
   ]
  },
  {
   "cell_type": "markdown",
   "metadata": {},
   "source": [
    "## Tuple\n",
    "A tuple is a collection which is **ordered and unchangeable**. In Python tuples are written with round brackets.\n",
    "___"
   ]
  },
  {
   "cell_type": "code",
   "execution_count": null,
   "metadata": {},
   "outputs": [],
   "source": [
    "# Create a Tuple:\n",
    "\n",
    "thistuple = (\"apple\", \"banana\", \"cherry\")\n",
    "print(thistuple)\n",
    "\n",
    "\n",
    "# Access Tuple Items\n",
    "# You can access tuple items by referring to the index number, inside square brackets:\n",
    "\n",
    "thistuple = (\"apple\", \"banana\", \"cherry\")\n",
    "print(thistuple[1])\n"
   ]
  },
  {
   "cell_type": "code",
   "execution_count": null,
   "metadata": {
    "collapsed": true
   },
   "outputs": [],
   "source": [
    "# Change Tuple Values\n",
    "# Once a tuple is created, you cannot change its values. Tuples are unchangeable.\n",
    "\n",
    "thistuple = (\"apple\", \"banana\", \"cherry\")\n",
    "thistuple[1] = \"blackcurrant\"       # Generates error when uncommented\n",
    "print(thistuple)\n",
    "\n",
    "\n",
    "# Add Items\n",
    "# Once a tuple is created, you cannot add items to it. Tuples are unchangeable.\n",
    "# Note: You cannot remove items in a tuple as well.\n",
    "thistuple = (\"apple\", \"banana\", \"cherry\")\n",
    "thistuple[3] = \"orange\"                # This will raise an error\n",
    "print(thistuple)"
   ]
  },
  {
   "cell_type": "code",
   "execution_count": null,
   "metadata": {},
   "outputs": [],
   "source": [
    "# Loop Through a Tuple\n",
    "# You can loop through the tuple items by using a for loop.\n",
    "\n",
    "thistuple = (\"apple\", \"banana\", \"cherry\")\n",
    "for x in thistuple:\n",
    "  print(x)"
   ]
  },
  {
   "cell_type": "code",
   "execution_count": null,
   "metadata": {},
   "outputs": [],
   "source": [
    "# Check if Item Exists\n",
    "# To determine if a specified item is present in a tuple use the in keyword:\n",
    "\n",
    "thistuple = (\"apple\", \"banana\", \"cherry\")\n",
    "if \"apple\" in thistuple:\n",
    "  print(\"Yes, 'apple' is in the fruits tuple\")"
   ]
  },
  {
   "cell_type": "code",
   "execution_count": null,
   "metadata": {
    "collapsed": true
   },
   "outputs": [],
   "source": [
    "# The tuple() Constructor\n",
    "# It is also possible to use the tuple() constructor to make a tuple.\n",
    "\n",
    "thistuple = tuple([\"apple\", \"banana\", \"cherry\"]) # note the inner square-brackets\n",
    "print(thistuple)"
   ]
  },
  {
   "cell_type": "code",
   "execution_count": null,
   "metadata": {},
   "outputs": [],
   "source": [
    "# Length of Tuple\n",
    "\n",
    "thistuple = tuple([1,2,3,4])\n",
    "print(len(thistuple))\n",
    "\n",
    "\n",
    "# Count of Elements in Tuple\n",
    "\n",
    "thistuple = tuple([1,1,2,1,4])\n",
    "print(thistuple.count(1))"
   ]
  },
  {
   "cell_type": "code",
   "execution_count": null,
   "metadata": {
    "collapsed": true
   },
   "outputs": [],
   "source": [
    "# The del keyword can delete the tuple completely:\n",
    "\n",
    "thistuple = (\"apple\", \"banana\", \"cherry\")\n",
    "del thistuple\n",
    "print(thistuple) #this will raise an error because the tuple no longer exists"
   ]
  },
  {
   "cell_type": "markdown",
   "metadata": {},
   "source": [
    "## Dictionary\n",
    "\n",
    "A dictionary is a collection which is unordered, changeable and indexed. In Python dictionaries are written with curly brackets, and they have keys and values.\n",
    "___"
   ]
  },
  {
   "cell_type": "code",
   "execution_count": null,
   "metadata": {},
   "outputs": [],
   "source": [
    "# Create and print a dictionary:\n",
    "\n",
    "thisdict ={\n",
    "  \"brand\": \"Ford\",\n",
    "  \"model\": \"Mustang\",\n",
    "  \"year\": 1964}\n",
    "\n",
    "print(thisdict)"
   ]
  },
  {
   "cell_type": "code",
   "execution_count": null,
   "metadata": {},
   "outputs": [],
   "source": [
    "# Accessing Items\n",
    "# You can access the items of a dictionary by referring to its key name, inside square brackets:\n",
    "\n",
    "x = thisdict.get(\"model\")\n",
    "print(x)"
   ]
  },
  {
   "cell_type": "code",
   "execution_count": null,
   "metadata": {},
   "outputs": [],
   "source": [
    "# Change Values\n",
    "# You can change the value of a specific item by referring to its key name:\n",
    "# Change the \"year\" to 2018:\n",
    "\n",
    "thisdict = {\n",
    "  \"brand\": \"Ford\",\n",
    "  \"model\": \"Mustang\",\n",
    "  \"year\": 1964\n",
    "}\n",
    "thisdict[\"year\"] = 2018\n",
    "\n",
    "print(thisdict)"
   ]
  },
  {
   "cell_type": "code",
   "execution_count": null,
   "metadata": {},
   "outputs": [],
   "source": [
    "print(thisdict.keys())\n",
    "print(thisdict.values())\n",
    "print(thisdict.items())"
   ]
  },
  {
   "cell_type": "code",
   "execution_count": null,
   "metadata": {},
   "outputs": [],
   "source": [
    "# Loop Through a Dictionary\n",
    "# You can loop through a dictionary by using a for loop.\n",
    "\n",
    "# When looping through a dictionary, the return value are the keys of the dictionary, \n",
    "for x in thisdict:\n",
    "  print(x)\n",
    "\n",
    "print(\"\\n\")\n",
    "# There are methods to return the values as well.\n",
    "for x in thisdict:\n",
    "  print(thisdict[x])"
   ]
  },
  {
   "cell_type": "code",
   "execution_count": null,
   "metadata": {},
   "outputs": [],
   "source": [
    "# Adding Items\n",
    "# Adding an item to the dictionary is done by using a new index key and assigning a value to it:\n",
    "\n",
    "thisdict ={\n",
    "  \"brand\": \"Ford\",\n",
    "  \"model\": \"Mustang\",\n",
    "  \"year\": 1964\n",
    "}\n",
    "thisdict[\"color\"] = \"red\"\n",
    "print(thisdict)"
   ]
  },
  {
   "cell_type": "code",
   "execution_count": null,
   "metadata": {},
   "outputs": [],
   "source": [
    "# Removing Items\n",
    "# There are several methods to remove items from a dictionary:\n",
    "\n",
    "thisdict ={\n",
    "  \"brand\": \"Ford\",\n",
    "  \"model\": \"Mustang\",\n",
    "  \"year\": 1964\n",
    "}\n",
    "\n",
    "thisdict.pop(\"model\")\n",
    "print(thisdict)\n",
    "\n",
    "del thisdict[\"year\"]\n",
    "print(thisdict)"
   ]
  },
  {
   "cell_type": "code",
   "execution_count": null,
   "metadata": {
    "collapsed": true
   },
   "outputs": [],
   "source": [
    "# The del keyword can also delete the dictionary completely:\n",
    "\n",
    "del thisdict\n",
    "print(thisdict) #this will cause an error because \"thisdict\" no longer exists."
   ]
  },
  {
   "cell_type": "code",
   "execution_count": null,
   "metadata": {},
   "outputs": [],
   "source": [
    "# The clear() keyword empties the dictionary:\n",
    "\n",
    "thisdict ={\n",
    "  \"brand\": \"Ford\",\n",
    "  \"model\": \"Mustang\",\n",
    "  \"year\": 1964\n",
    "}\n",
    "thisdict.clear()\n",
    "print(thisdict)"
   ]
  },
  {
   "cell_type": "code",
   "execution_count": null,
   "metadata": {},
   "outputs": [],
   "source": [
    "# The dict() Constructor\n",
    "# It is also possible to use the dict() constructor to make a dictionary:\n",
    "\n",
    "thisdict = dict(brand=\"Ford\", model=\"Mustang\", year=1964)\n",
    "# note that keywords are not string literals\n",
    "# note the use of equals rather than colon for the assignment\n",
    "print(thisdict)"
   ]
  },
  {
   "cell_type": "markdown",
   "metadata": {},
   "source": [
    "## Dictionary Methods\n",
    "**Python has a set of built-in methods that you can use on dictionaries.**\n",
    "___"
   ]
  },
  {
   "cell_type": "code",
   "execution_count": null,
   "metadata": {
    "collapsed": true
   },
   "outputs": [],
   "source": [
    "'''\n",
    "*Method*\t\t*Description*\n",
    "\n",
    "clear()\t\tRemoves all the elements from the dictionary\n",
    "copy()\t\tReturns a copy of the dictionary\n",
    "fromkeys()\tReturns a dictionary with the specified keys and values\n",
    "get()\t\tReturns the value of the specified key\n",
    "items()\t\tReturns a list containing the a tuple for each key value pair\n",
    "keys()\t\tReturns a list contianing the dictionary's keys\n",
    "pop()\t\tRemoves the element with the specified key\n",
    "popitem()\tRemoves the last inserted key-value pair\n",
    "setdefault()\tIf the key does not exist: insert the key, with the specified value\n",
    "update()\tUpdates the dictionary with the specified key-value pairs\n",
    "values()\tReturns a list of all the values in the dictionary\n",
    "'''"
   ]
  }
 ],
 "metadata": {
  "kernelspec": {
   "display_name": "Python 3",
   "language": "python",
   "name": "python3"
  },
  "language_info": {
   "codemirror_mode": {
    "name": "ipython",
    "version": 3
   },
   "file_extension": ".py",
   "mimetype": "text/x-python",
   "name": "python",
   "nbconvert_exporter": "python",
   "pygments_lexer": "ipython3",
   "version": "3.6.3"
  }
 },
 "nbformat": 4,
 "nbformat_minor": 2
}
