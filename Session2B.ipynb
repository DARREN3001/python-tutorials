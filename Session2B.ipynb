{
 "cells": [
  {
   "cell_type": "markdown",
   "metadata": {},
   "source": [
    "# Functions, Global Variables, File & Error Handling\n",
    "___"
   ]
  },
  {
   "cell_type": "markdown",
   "metadata": {},
   "source": [
    "## Functions\n",
    "A **function** is a block of code which only runs when it is called.\n",
    "You can pass data, known as parameters, into a function.<br />\n",
    "A function can return data as a result.<br />"
   ]
  },
  {
   "cell_type": "code",
   "execution_count": 8,
   "metadata": {},
   "outputs": [
    {
     "name": "stdout",
     "output_type": "stream",
     "text": [
      "Hello from a function\n"
     ]
    }
   ],
   "source": [
    "# Creating a Function\n",
    "# In Python a function is defined using the def keyword:\n",
    "\n",
    "def my_function():\n",
    "  print(\"Hello from a function\")\n",
    "\n",
    "# Calling the function\n",
    "my_function()"
   ]
  },
  {
   "cell_type": "markdown",
   "metadata": {},
   "source": [
    "### Parameters\n",
    "Information can be passed to functions as parameter.\n",
    "\n",
    "Parameters are specified after the function name, inside the parentheses. You can add as many parameters as you want, just separate them with a comma.\n",
    "\n",
    "The following example has a function with one parameter (fname). When the function is called, we pass along a first name, which is used inside the function to print the full name:"
   ]
  },
  {
   "cell_type": "code",
   "execution_count": 9,
   "metadata": {},
   "outputs": [
    {
     "name": "stdout",
     "output_type": "stream",
     "text": [
      "John Doe\n"
     ]
    }
   ],
   "source": [
    "def my_function(fname):\n",
    "  print(fname + \" Doe\")\n",
    "\n",
    "my_function(\"John\")"
   ]
  },
  {
   "cell_type": "code",
   "execution_count": 10,
   "metadata": {},
   "outputs": [
    {
     "name": "stdout",
     "output_type": "stream",
     "text": [
      "I am from India\n",
      "I am from Norway\n"
     ]
    }
   ],
   "source": [
    "# Default Parameter Value\n",
    "# If we call the function without parameter, it uses the default value:\n",
    "\n",
    "\n",
    "def my_function(country = \"Norway\"):\n",
    "  print(\"I am from \" + country)\n",
    "\n",
    "my_function(\"India\")\n",
    "my_function()"
   ]
  },
  {
   "cell_type": "markdown",
   "metadata": {},
   "source": [
    "### Return Values\n",
    "To let a function return a value, use the return statement."
   ]
  },
  {
   "cell_type": "code",
   "execution_count": 11,
   "metadata": {},
   "outputs": [
    {
     "name": "stdout",
     "output_type": "stream",
     "text": [
      "15\n",
      "25\n"
     ]
    }
   ],
   "source": [
    "def my_function(x):\n",
    "  return 5 * x\n",
    "\n",
    "print(my_function(3))\n",
    "print(my_function(5))"
   ]
  },
  {
   "cell_type": "markdown",
   "metadata": {},
   "source": [
    "### Lambda Function\n",
    "A lambda function is a small anonymous function.<br />\n",
    "A lambda function can take any number of arguments, but can only have one expression.\n",
    "\n",
    "**Syntax: ** lambda arguments : expression"
   ]
  },
  {
   "cell_type": "code",
   "execution_count": 12,
   "metadata": {},
   "outputs": [
    {
     "name": "stdout",
     "output_type": "stream",
     "text": [
      "15\n"
     ]
    }
   ],
   "source": [
    "# A lambda function that adds 10 to the number passed in as an argument, and print the result:\n",
    "\n",
    "x = lambda a : a + 10\n",
    "print(x(5))"
   ]
  },
  {
   "cell_type": "code",
   "execution_count": 13,
   "metadata": {},
   "outputs": [
    {
     "name": "stdout",
     "output_type": "stream",
     "text": [
      "22\n",
      "33\n"
     ]
    }
   ],
   "source": [
    "# The power of lambda is better shown when you use them as an anonymous function inside another function.\n",
    "\n",
    "# Say you have a function definition that takes one argument,\n",
    "# and that argument will be multiplied with an unknown number:\n",
    "\n",
    "def myfunc(n):\n",
    "  return lambda a : a * n\n",
    "\n",
    "mydoubler = myfunc(2)\n",
    "mytripler = myfunc(3)\n",
    "\n",
    "print(mydoubler(11)) \n",
    "print(mytripler(11))"
   ]
  },
  {
   "cell_type": "markdown",
   "metadata": {},
   "source": [
    "### Map Function\n",
    "**map()** function is used to apply a function on all the elements of specified iterable and return map object.<br />\n",
    "Python map object is an iterator, so we can iterate over its elements. We can also convert map object to sequence objects such as list, tuple etc.\n",
    "\n",
    "**Syntax:** map(function, iterable, ...)"
   ]
  },
  {
   "cell_type": "code",
   "execution_count": 14,
   "metadata": {},
   "outputs": [
    {
     "name": "stdout",
     "output_type": "stream",
     "text": [
      "['1', '2', '3', '4']\n",
      "[1, 2, 3, 4]\n"
     ]
    }
   ],
   "source": [
    "myList = [\"1\",\"2\",\"3\",\"4\"]\n",
    "print(myList)\n",
    "\n",
    "myModifiedList = list(map(int,myList))\n",
    "print(myModifiedList)"
   ]
  },
  {
   "cell_type": "code",
   "execution_count": 21,
   "metadata": {},
   "outputs": [
    {
     "data": {
      "text/plain": [
       "[3, 4, 5]"
      ]
     },
     "execution_count": 21,
     "metadata": {},
     "output_type": "execute_result"
    }
   ],
   "source": [
    "def add2(n):\n",
    "    return n+2\n",
    "\n",
    "list(map(add2,[1,2,3]))"
   ]
  },
  {
   "cell_type": "code",
   "execution_count": 17,
   "metadata": {},
   "outputs": [
    {
     "data": {
      "text/plain": [
       "[1, 4, 9]"
      ]
     },
     "execution_count": 17,
     "metadata": {},
     "output_type": "execute_result"
    }
   ],
   "source": [
    "list(map(lambda x: x**2,[1,2,3]))"
   ]
  },
  {
   "cell_type": "markdown",
   "metadata": {},
   "source": [
    "### Global Variables"
   ]
  },
  {
   "cell_type": "code",
   "execution_count": 27,
   "metadata": {},
   "outputs": [
    {
     "name": "stdout",
     "output_type": "stream",
     "text": [
      "8\n",
      "6\n"
     ]
    }
   ],
   "source": [
    "a = 5\n",
    "\n",
    "def func(num):\n",
    "    # global a\n",
    "    a+=1\n",
    "    return a+num\n",
    "\n",
    "print(func(2))\n",
    "print(a)"
   ]
  },
  {
   "cell_type": "markdown",
   "metadata": {},
   "source": [
    "## File Handling\n",
    "\n",
    "File handling is an important part of any application.<br />\n",
    "Python has several functions for creating, reading, updating, and deleting files."
   ]
  },
  {
   "cell_type": "markdown",
   "metadata": {},
   "source": [
    "\n",
    "The key function for working with files in Python is the **open()** function.\n",
    "\n",
    "The open() function takes two parameters; **filename, and mode.**\n",
    "\n",
    "There are **four different methods (modes)** for opening a file:\n",
    "\n",
    ">\"r\" - Read - Default value. Opens a file for reading, error if the file does not exist\n",
    "\n",
    ">\"a\" - Append - Opens a file for appending, creates the file if it does not exist\n",
    "\n",
    ">\"w\" - Write - Opens a file for writing, creates the file if it does not exist\n",
    "\n",
    ">\"x\" - Create - Creates the specified file, returns an error if the file exists\n",
    "\n",
    "In addition you can specify if the file should be handled as **binary** or **text** mode\n",
    "\n",
    ">\"t\" - Text - Default value. Text mode\n",
    "\n",
    ">\"b\" - Binary - Binary mode (e.g. images)"
   ]
  },
  {
   "cell_type": "markdown",
   "metadata": {},
   "source": [
    "## Reading a file"
   ]
  },
  {
   "cell_type": "markdown",
   "metadata": {},
   "source": [
    "### Create a **demofile.txt**\n",
    "\n",
    ">Hello! Welcome to demofile.txt <br />\n",
    ">This file is for testing purposes.<br />\n",
    ">Good Luck!<br />"
   ]
  },
  {
   "cell_type": "code",
   "execution_count": 29,
   "metadata": {},
   "outputs": [
    {
     "name": "stdout",
     "output_type": "stream",
     "text": [
      "Hello! Welcome to demofile.txt \n",
      "This file is for testing purposes.\n",
      "Good Luck!\n"
     ]
    }
   ],
   "source": [
    "# Read the entire File\n",
    "\n",
    "f = open(\"demofile.txt\", \"r\")\n",
    "print(f.read())"
   ]
  },
  {
   "cell_type": "code",
   "execution_count": 30,
   "metadata": {},
   "outputs": [
    {
     "name": "stdout",
     "output_type": "stream",
     "text": [
      "Hello\n"
     ]
    }
   ],
   "source": [
    "# Read only specific character from the beginning\n",
    "\n",
    "f = open(\"demofile.txt\", \"r\")\n",
    "print(f.read(5))"
   ]
  },
  {
   "cell_type": "code",
   "execution_count": 31,
   "metadata": {},
   "outputs": [
    {
     "name": "stdout",
     "output_type": "stream",
     "text": [
      "Hello! Welcome to demofile.txt \n",
      "This file is for testing purposes.\n",
      "\n"
     ]
    }
   ],
   "source": [
    "# Read Lines\n",
    "# You can return one line by using the readline() method:\n",
    "\n",
    "f = open(\"demofile.txt\", \"r\")\n",
    "print(f.readline())\n",
    "print(f.readline())"
   ]
  },
  {
   "cell_type": "code",
   "execution_count": 32,
   "metadata": {},
   "outputs": [
    {
     "name": "stdout",
     "output_type": "stream",
     "text": [
      "Hello! Welcome to demofile.txt \n",
      "This file is for testing purposes.\n",
      "Good Luck!\n"
     ]
    }
   ],
   "source": [
    "# By looping through the lines of the file, you can read the whole file, line by line:\n",
    "\n",
    "f = open(\"demofile.txt\", \"r\")\n",
    "for x in f:\n",
    "  print(x)"
   ]
  },
  {
   "cell_type": "markdown",
   "metadata": {},
   "source": [
    "## Writting to a file\n",
    "\n",
    "To write to an existing file, you must add a parameter to the open() function:\n",
    "\n",
    ">\"a\" - Append - will append to the end of the file\n",
    ">\n",
    ">\"w\" - Write - will overwrite any existing content\n",
    ">\n",
    ">\"x\" - Create - will create a file, returns an error if the file exist"
   ]
  },
  {
   "cell_type": "code",
   "execution_count": null,
   "metadata": {
    "collapsed": true
   },
   "outputs": [],
   "source": [
    "# Open the file \"demofile.txt\" and append content to the file:\n",
    "\n",
    "f = open(\"demofile.txt\", \"a\")\n",
    "f.write(\"Now the file has one more line!\")"
   ]
  },
  {
   "cell_type": "code",
   "execution_count": null,
   "metadata": {
    "collapsed": true
   },
   "outputs": [],
   "source": [
    "f = open(\"demofile.txt\", \"w\")\n",
    "f.write(\"Woops! I have deleted the content!\")"
   ]
  },
  {
   "cell_type": "markdown",
   "metadata": {},
   "source": [
    "## Error Handling\n",
    "\n",
    "When an error occurs, or exception as we call it, Python will normally stop and generate an error message.\n",
    "\n",
    "These exceptions can be handled using the try statement."
   ]
  },
  {
   "cell_type": "markdown",
   "metadata": {},
   "source": [
    ">The **try** block lets you test a block of code for errors.\n",
    ">\n",
    ">The **except** block lets you handle the error.\n",
    ">\n",
    ">The **finally** block lets you execute code, regardless of the result of the try- and except blocks.\n",
    "\n"
   ]
  },
  {
   "cell_type": "code",
   "execution_count": 35,
   "metadata": {},
   "outputs": [
    {
     "name": "stdout",
     "output_type": "stream",
     "text": [
      "An exception occurred\n"
     ]
    }
   ],
   "source": [
    "# Example\n",
    "# The try block will generate an exception, because xyz is not defined:\n",
    "\n",
    "try:\n",
    "  print(xyz)\n",
    "except:\n",
    "  print(\"An exception occurred\")"
   ]
  },
  {
   "cell_type": "code",
   "execution_count": 38,
   "metadata": {},
   "outputs": [
    {
     "name": "stdout",
     "output_type": "stream",
     "text": [
      "Variable xyz is not defined\n"
     ]
    }
   ],
   "source": [
    "# Print one message if the try block raises a NameError and another for other errors:\n",
    "\n",
    "try:\n",
    "  print(xyz)\n",
    "except NameError:\n",
    "  print(\"Variable xyz is not defined\")\n",
    "except:\n",
    "  print(\"Something else went wrong\")"
   ]
  },
  {
   "cell_type": "code",
   "execution_count": 39,
   "metadata": {},
   "outputs": [
    {
     "name": "stdout",
     "output_type": "stream",
     "text": [
      "Hello\n",
      "Nothing went wrong\n"
     ]
    }
   ],
   "source": [
    "# You can use the else keyword to define a block of code to be executed if no errors were raised:\n",
    "\n",
    "try:\n",
    "  print(\"Hello\")\n",
    "except:\n",
    "  print(\"Something went wrong\")\n",
    "else:\n",
    "  print(\"Nothing went wrong\")"
   ]
  },
  {
   "cell_type": "code",
   "execution_count": 41,
   "metadata": {},
   "outputs": [
    {
     "name": "stdout",
     "output_type": "stream",
     "text": [
      "Something went wrong when writing to the file\n"
     ]
    }
   ],
   "source": [
    "# The finally block, if specified, will be executed regardless if the try block raises an error or not.\n",
    "\n",
    "# Try to open and write to a file that is not writable:\n",
    "\n",
    "try:\n",
    "    f= open(\"demofile.txt\",\"r\")\n",
    "    f.write(\"Lorum Ipsum\")\n",
    "except:\n",
    "    print(\"Something went wrong when writing to the file\")\n",
    "finally:\n",
    "    f.close()\n"
   ]
  }
 ],
 "metadata": {
  "kernelspec": {
   "display_name": "Python 3",
   "language": "python",
   "name": "python3"
  },
  "language_info": {
   "codemirror_mode": {
    "name": "ipython",
    "version": 3
   },
   "file_extension": ".py",
   "mimetype": "text/x-python",
   "name": "python",
   "nbconvert_exporter": "python",
   "pygments_lexer": "ipython3",
   "version": "3.6.3"
  }
 },
 "nbformat": 4,
 "nbformat_minor": 2
}
