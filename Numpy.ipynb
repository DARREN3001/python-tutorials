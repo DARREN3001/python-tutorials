{
 "cells": [
  {
   "cell_type": "markdown",
   "metadata": {},
   "source": [
    "# Numpy\n",
    "\n",
    "The NumPy library is the core library for scientific computing in Python. It provides a high-performance multidimensional array object and tools for working with these arrays.\n",
    "\n",
    "\n",
    "## Convetional way to import numpy:\n",
    "\n",
    "> import numpy as np\n",
    "\n",
    "***\n",
    "\n",
    "### Creating numpy arrays"
   ]
  },
  {
   "cell_type": "code",
   "execution_count": 1,
   "metadata": {},
   "outputs": [
    {
     "name": "stdout",
     "output_type": "stream",
     "text": [
      "Single Dimension:  [1 2 3] <class 'numpy.ndarray'> \n",
      "\n",
      "Two Dimension: \n",
      " [[1.5 2.  3. ]\n",
      " [4.  5.  6. ]] \n",
      "\n",
      "Three dimension:\n",
      " [[[1.5 2.  3. ]\n",
      "  [4.  5.  6. ]]\n",
      "\n",
      " [[3.  2.  1. ]\n",
      "  [4.  5.  6. ]]]\n"
     ]
    }
   ],
   "source": [
    "import numpy as np\n",
    "li = [1,2,3]\n",
    "a = np.array(li)\n",
    "print(\"Single Dimension: \",a, type(a),\"\\n\")\n",
    "\n",
    "b = np.array([(1.5,2,3), (4,5,6)], dtype = float)\n",
    "print(\"Two Dimension: \\n\",b,\"\\n\")\n",
    "\n",
    "c = np.array([[(1.5,2,3), (4,5,6)], [(3,2,1), (4,5,6)]],dtype = float)\n",
    "print(\"Three dimension:\\n\",c)"
   ]
  },
  {
   "cell_type": "markdown",
   "metadata": {},
   "source": [
    "### Initial placeholders"
   ]
  },
  {
   "cell_type": "code",
   "execution_count": 2,
   "metadata": {},
   "outputs": [
    {
     "name": "stdout",
     "output_type": "stream",
     "text": [
      "[[0 0]\n",
      " [0 0]] \n",
      "\n",
      "[[1. 1. 1.]\n",
      " [1. 1. 1.]] \n",
      "\n",
      "[[7 7]\n",
      " [7 7]] \n",
      "\n",
      "[10 15 20 25] \n",
      "\n",
      "[0.   0.25 0.5  0.75 1.   1.25 1.5  1.75 2.  ] \n",
      "\n",
      "[[1. 0.]\n",
      " [0. 1.]] \n",
      "\n",
      "[[1.5 2.  3.  4. ]\n",
      " [5.  6.  3.  2. ]\n",
      " [1.  4.  5.  6. ]]\n"
     ]
    }
   ],
   "source": [
    "# Create an array of zeros\n",
    "arr_zero = np.zeros((2,2), dtype = int)\n",
    "print(arr_zero,\"\\n\")\n",
    "\n",
    "# Create an array of ones\n",
    "arr_one = np.ones((2,3))\n",
    "print(arr_one,\"\\n\")\n",
    "\n",
    "# Create an array of constant\n",
    "arr_const = np.full((2,2),7)\n",
    "print(arr_const,\"\\n\")\n",
    "\n",
    "# Create an array of evenly spaced values with step\n",
    "arr_range = np.arange(10,30,5)\n",
    "print(arr_range,\"\\n\")\n",
    "\n",
    "# Create an array of evenly spaced values with number of elements\n",
    "arr_range_2 = np.linspace(0,2,9)\n",
    "print(arr_range_2,\"\\n\")\n",
    "\n",
    "# Create a identity matrix\n",
    "arr_identity = np.eye(2)\n",
    "print(arr_identity,\"\\n\")\n",
    "\n",
    "# Create an empty array\n",
    "arr_emp = np.empty((3,4))\n",
    "print(arr_emp)"
   ]
  },
  {
   "cell_type": "markdown",
   "metadata": {},
   "source": [
    "### I/O\n",
    "\n",
    "### Saving & Loading on Disk"
   ]
  },
  {
   "cell_type": "code",
   "execution_count": 22,
   "metadata": {},
   "outputs": [
    {
     "name": "stdout",
     "output_type": "stream",
     "text": [
      "[[0. 0. 0.]\n",
      " [0. 0. 0.]]\n"
     ]
    }
   ],
   "source": [
    "# Initialize array\n",
    "np_array = np.zeros((2,3))\n",
    "\n",
    "# saves to file\n",
    "np.save(\"file_name\",np_array)\n",
    "\n",
    "# saves as zip file\n",
    "np.savez(\"file_name2\",np_array)\n",
    "\n",
    "# Load from disk\n",
    "np_array_2 = np.load(\"file_name.npy\")\n",
    "\n",
    "print(np_array_2)"
   ]
  },
  {
   "cell_type": "markdown",
   "metadata": {},
   "source": [
    "### Saving & Loading text files"
   ]
  },
  {
   "cell_type": "code",
   "execution_count": 26,
   "metadata": {},
   "outputs": [
    {
     "name": "stdout",
     "output_type": "stream",
     "text": [
      "[[0. 0. 0.]\n",
      " [0. 0. 0.]]\n",
      "[[0. 0. 0.]\n",
      " [0. 0. 0.]]\n"
     ]
    }
   ],
   "source": [
    "# Initialize array\n",
    "np_array = np.zeros((2,3))\n",
    "\n",
    "\n",
    "np.savetxt(\"myarray.txt\",np_array,delimiter = \" \")\n",
    "arr1 = np.loadtxt(\"myarray.txt\")\n",
    "print(arr1)\n",
    "\n",
    "np.savetxt(\"myarray.csv\",np_array,delimiter = \",\")\n",
    "arr2 = np.genfromtxt(\"myarray.csv\", delimiter = ',')\n",
    "print(arr2)"
   ]
  },
  {
   "cell_type": "markdown",
   "metadata": {},
   "source": [
    "### Inspecting Numpy Arrays"
   ]
  },
  {
   "cell_type": "code",
   "execution_count": 38,
   "metadata": {},
   "outputs": [
    {
     "name": "stdout",
     "output_type": "stream",
     "text": [
      "[[1. 1. 1.]\n",
      " [1. 1. 1.]]\n",
      "Dimension:  (2, 3)\n",
      "Length of Array:  2\n",
      "Number of array dimensions: 2\n",
      "Number of array elements:  6\n",
      "float64\n"
     ]
    }
   ],
   "source": [
    "# Initialize array\n",
    "array = np.ones((2,3))\n",
    "print(array)\n",
    "\n",
    "# Array dimension\n",
    "print(\"Dimension: \", array.shape)\n",
    "\n",
    "# Length of array\n",
    "print(\"Length of Array: \", len(array))\n",
    "\n",
    "# Number of array dimensions:\n",
    "print(\"Number of array dimensions:\", array.ndim)\n",
    "\n",
    "# Number of array elements:\n",
    "print(\"Number of array elements: \",array.size)\n",
    "\n",
    "# Datatype of array elements:\n",
    "print(array.dtype)"
   ]
  },
  {
   "cell_type": "markdown",
   "metadata": {},
   "source": [
    "### Arithmetic Operations"
   ]
  },
  {
   "cell_type": "code",
   "execution_count": 47,
   "metadata": {},
   "outputs": [
    {
     "name": "stdout",
     "output_type": "stream",
     "text": [
      "[[0 0 0]\n",
      " [0 1 1]]\n",
      "[[2 4 6]\n",
      " [2 1 1]]\n",
      "[[ 2.71828183  7.3890561  20.08553692]\n",
      " [ 2.71828183  2.71828183  2.71828183]]\n",
      "[[1.         1.41421356 1.73205081]\n",
      " [1.         1.         1.        ]]\n",
      "[[0.84147098 0.90929743 0.14112001]\n",
      " [0.84147098 0.84147098 0.84147098]]\n",
      "[[0.         0.69314718 1.09861229]\n",
      " [0.         0.         0.        ]]\n",
      "[[14  1]\n",
      " [ 6  1]]\n"
     ]
    }
   ],
   "source": [
    "a = np.array([[1,2,3],[1,1,1]])\n",
    "b = np.array([[1,2,3],[1,0,0]])\n",
    "\n",
    "# Substraction\n",
    "sub = a-b\n",
    "print(sub)\n",
    "\n",
    "# Addition\n",
    "add = a+b\n",
    "print(add)\n",
    "\n",
    "# same for Multiplication and Divion\n",
    "\n",
    "# Exponentiation\n",
    "e = np.exp(a)\n",
    "print(e)\n",
    "\n",
    "# Sqaure root\n",
    "sq = np.sqrt(a)\n",
    "print(sq)\n",
    "\n",
    "\n",
    "print(np.sin(a))\n",
    "print(np.log(a))\n",
    "\n",
    "# dot for matrix dot multiplication\n",
    "# .T for transpose of matrix\n",
    "dot = a.dot(b.T)\n",
    "print(dot)"
   ]
  },
  {
   "cell_type": "markdown",
   "metadata": {},
   "source": [
    "### Comparisons"
   ]
  },
  {
   "cell_type": "code",
   "execution_count": 53,
   "metadata": {},
   "outputs": [
    {
     "name": "stdout",
     "output_type": "stream",
     "text": [
      "[[ True  True  True]\n",
      " [ True False False]]\n",
      "[[ True False False]\n",
      " [ True  True  True]]\n",
      "False\n"
     ]
    }
   ],
   "source": [
    "a = np.array([[1,2,3],[1,1,1]])\n",
    "b = np.array([[1,2,3],[1,0,0]])\n",
    "\n",
    "# Comaprison with other array\n",
    "print(a==b)\n",
    "\n",
    "# Comparison with constant\n",
    "print(a<2)\n",
    "\n",
    "# Array-wise comparison\n",
    "print(np.array_equal(a,b))"
   ]
  },
  {
   "cell_type": "markdown",
   "metadata": {},
   "source": [
    "### Aggregate Function"
   ]
  },
  {
   "cell_type": "code",
   "execution_count": 2,
   "metadata": {},
   "outputs": [
    {
     "name": "stdout",
     "output_type": "stream",
     "text": [
      "9\n",
      "1\n",
      "[1 2 3]\n"
     ]
    }
   ],
   "source": [
    "a = np.array([[1,2,3],[1,1,1]])\n",
    "\n",
    "# Array-wise sum\n",
    "print(a.sum())\n",
    "\n",
    "# Minimum value (or maximum value with max())\n",
    "print(a.min())\n",
    "\n",
    "# Maximum value in a row\n",
    "print(a.max(axis = 0))"
   ]
  },
  {
   "cell_type": "code",
   "execution_count": 21,
   "metadata": {},
   "outputs": [
    {
     "name": "stdout",
     "output_type": "stream",
     "text": [
      "3.3333333333333335\n",
      "3.0\n",
      "[[1.         0.98198051]\n",
      " [0.98198051 1.        ]]\n",
      "1.699673171197595\n"
     ]
    }
   ],
   "source": [
    "a = np.array([[1,2,3],[3,5,6]])\n",
    "\n",
    "# Mean\n",
    "print(a.mean())\n",
    "\n",
    "# Median\n",
    "print(np.median(a))\n",
    "\n",
    "# Correlation Coefficient\n",
    "print(np.corrcoef(a))\n",
    "\n",
    "print(np.std(a))"
   ]
  },
  {
   "cell_type": "markdown",
   "metadata": {},
   "source": [
    "### Copy an array"
   ]
  },
  {
   "cell_type": "code",
   "execution_count": 30,
   "metadata": {},
   "outputs": [
    {
     "name": "stdout",
     "output_type": "stream",
     "text": [
      "a =  [[3 4 5]\n",
      " [5 7 8]] \n",
      " b =  [[3 4 5]\n",
      " [5 7 8]]\n",
      "a =  [[3 4 5]\n",
      " [5 7 8]] \n",
      " c = [[ 8  9 10]\n",
      " [10 12 13]] d =  [[0 1 2]\n",
      " [2 4 5]]\n"
     ]
    }
   ],
   "source": [
    "a = np.array([[1,2,3],[3,5,6]])\n",
    "\n",
    "b = a\n",
    "b+=2\n",
    "\n",
    "print('a = ',a,\"\\n\",'b = ',b)\n",
    "\n",
    "c = np.copy(a)\n",
    "c+=5\n",
    "\n",
    "d = a.copy()\n",
    "d-=3\n",
    "\n",
    "print('a = ',a,\"\\n\",'c =',c,\"d = \",d)\n"
   ]
  },
  {
   "cell_type": "markdown",
   "metadata": {},
   "source": [
    "### Indexing & Slicing "
   ]
  },
  {
   "cell_type": "code",
   "execution_count": 35,
   "metadata": {},
   "outputs": [
    {
     "name": "stdout",
     "output_type": "stream",
     "text": [
      "2\n",
      "3\n"
     ]
    }
   ],
   "source": [
    "#Single dimension\n",
    "a = np.array([0,1,2,3])\n",
    "print(a[2])\n",
    "\n",
    "# Two dimension\n",
    "a = np.array([[1,2,3],[4,5,6]])\n",
    "print(a[0,2])\n"
   ]
  },
  {
   "cell_type": "code",
   "execution_count": 7,
   "metadata": {},
   "outputs": [
    {
     "name": "stdout",
     "output_type": "stream",
     "text": [
      "[[ 1  2  3]\n",
      " [ 4  5  6]\n",
      " [ 4 56 67]] \n",
      "\n",
      "[1 4 4] \n",
      "\n",
      "[[ 4 56 67]\n",
      " [ 4  5  6]\n",
      " [ 1  2  3]]\n"
     ]
    }
   ],
   "source": [
    "a = np.array([[1,2,3],[4,5,6],[4,56,67]])\n",
    "#a = np.array([1,2,3])\n",
    "# print everything\n",
    "print(a[:,:],\"\\n\")\n",
    "\n",
    "# print first element of all sub-arrays\n",
    "print(a[:,0],\"\\n\")\n",
    "\n",
    "#print array in reverse order\n",
    "print(a[::-1])"
   ]
  },
  {
   "cell_type": "code",
   "execution_count": 3,
   "metadata": {},
   "outputs": [
    {
     "name": "stdout",
     "output_type": "stream",
     "text": [
      "[ 1  2  3  4  5  6  4 56 67]\n",
      "[[ 1  2  3]\n",
      " [ 4  5  6]\n",
      " [ 4 56 67]]\n"
     ]
    }
   ],
   "source": [
    "a = np.array([[1,2,3],[4,5,6],[4,56,67]])\n",
    "a = a.reshape(9)\n",
    "print(a)\n",
    "a = a.reshape(3,3)\n",
    "print(a)\n"
   ]
  },
  {
   "cell_type": "markdown",
   "metadata": {},
   "source": [
    "### Array Manipulation"
   ]
  },
  {
   "cell_type": "code",
   "execution_count": 4,
   "metadata": {},
   "outputs": [
    {
     "name": "stdout",
     "output_type": "stream",
     "text": [
      "[[1 2 3]\n",
      " [4 5 6]]\n"
     ]
    }
   ],
   "source": [
    "a = np.array([[1,2,3],[4,5,6]])\n",
    "print(a)"
   ]
  },
  {
   "cell_type": "code",
   "execution_count": 5,
   "metadata": {},
   "outputs": [
    {
     "name": "stdout",
     "output_type": "stream",
     "text": [
      "[[1 4]\n",
      " [2 5]\n",
      " [3 6]]\n"
     ]
    }
   ],
   "source": [
    "# Transpose\n",
    "print(a.T)"
   ]
  },
  {
   "cell_type": "code",
   "execution_count": 49,
   "metadata": {},
   "outputs": [
    {
     "name": "stdout",
     "output_type": "stream",
     "text": [
      "[1 2 3 4 5 6] \n",
      "\n",
      "[[[1 2 3 4 5 6]]]\n"
     ]
    }
   ],
   "source": [
    "# Change array shape\n",
    "\n",
    "# Flatten the array\n",
    "print(a.ravel(), \"\\n\")\n",
    "\n",
    "# Reshape\n",
    "print(a.reshape(1,1,6))"
   ]
  },
  {
   "cell_type": "code",
   "execution_count": 6,
   "metadata": {},
   "outputs": [
    {
     "name": "stdout",
     "output_type": "stream",
     "text": [
      "[1 2 3 4 5 6 1 1 1 1 2 3]\n",
      "[1 2 3 4 5 6 5 1 1 1 1 2 3]\n",
      "[1 3 4 5 6 5 1 1 1 1 2 3]\n"
     ]
    }
   ],
   "source": [
    "#Adding/removing elements\n",
    "a = np.array([[1,2,3],[4,5,6]])\n",
    "b = [[1,1,1],[1,2,3]]\n",
    "a = np.append(a,b)\n",
    "print(a)\n",
    "\n",
    "\n",
    "# Insert at location\n",
    "a = np.insert(a,6,5)\n",
    "print(a)\n",
    "\n",
    "\n",
    "# Delete items\n",
    "a = np.delete(a,[1])\n",
    "print(a)"
   ]
  },
  {
   "cell_type": "markdown",
   "metadata": {},
   "source": [
    "### Combining & Splitting Arrays"
   ]
  },
  {
   "cell_type": "code",
   "execution_count": 5,
   "metadata": {},
   "outputs": [
    {
     "name": "stdout",
     "output_type": "stream",
     "text": [
      "[ 1  2  3 10 15 20]\n",
      "[array([[1, 2, 3]]), array([[4, 5, 6]])]\n"
     ]
    }
   ],
   "source": [
    "import numpy as np\n",
    "# Concatenate arrays\n",
    "a = np.array([1,2,3])\n",
    "d = np.array([10,15,20])\n",
    "\n",
    "op = np.concatenate((a,d),axis=0) \n",
    "print(op)\n",
    "'''OUTPUT:\n",
    "array([ 1,  2,  3, 10, 15, 20])\n",
    "'''\n",
    "\n",
    "c = np.array([[1,2,3],\n",
    "    [4,5,6]])\n",
    "\n",
    "# Split the array vertically at the 2nd index    \n",
    "op2 = np.vsplit(c,2)              \n",
    "print(op2)\n"
   ]
  }
 ],
 "metadata": {
  "kernelspec": {
   "display_name": "Python 3",
   "language": "python",
   "name": "python3"
  },
  "language_info": {
   "codemirror_mode": {
    "name": "ipython",
    "version": 3
   },
   "file_extension": ".py",
   "mimetype": "text/x-python",
   "name": "python",
   "nbconvert_exporter": "python",
   "pygments_lexer": "ipython3",
   "version": "3.6.3"
  }
 },
 "nbformat": 4,
 "nbformat_minor": 2
}
