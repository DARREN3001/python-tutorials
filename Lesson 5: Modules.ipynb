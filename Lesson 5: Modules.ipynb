{
 "cells": [
  {
   "cell_type": "markdown",
   "metadata": {},
   "source": [
    "# Python Modules, Installing & Creating modules, Math & OS module\n",
    "\n",
    "### What is a Module?\n",
    "\n",
    "Consider a module to be the same as a code library.\n",
    "\n",
    "A file containing a set of functions you want to include in your application.\n",
    "___"
   ]
  },
  {
   "cell_type": "markdown",
   "metadata": {},
   "source": [
    "### Create & Use a Module\n",
    "To create a module just save the code you want in a file with the file extension .py:"
   ]
  },
  {
   "cell_type": "code",
   "execution_count": null,
   "metadata": {},
   "outputs": [],
   "source": [
    "# Save this code in a file named mymodule.py\n",
    "\n",
    "def greeting(name):\n",
    "  print(\"Hello, \" + name)\n",
    "\n",
    "\n",
    "# Use a Module\n",
    "# Now we can use the module we just created, by using the import statement:\n",
    "\n",
    "# Import the module named mymodule, and call the greeting function:\n",
    "\n",
    "import mymodule\n",
    "\n",
    "mymodule.greeting(\"Jonathan\")"
   ]
  },
  {
   "cell_type": "markdown",
   "metadata": {},
   "source": [
    "### Variables in Module\n",
    "The module can contain functions, as already described, but also variables of all types (arrays, dictionaries, objects etc):"
   ]
  },
  {
   "cell_type": "code",
   "execution_count": null,
   "metadata": {
    "collapsed": true
   },
   "outputs": [],
   "source": [
    "# Save this code in the file mymodule.py\n",
    "\n",
    "person1 = {\n",
    "  \"name\": \"John\",\n",
    "  \"age\": 36,\n",
    "  \"country\": \"Norway\"\n",
    "}\n",
    "\n",
    "\n",
    "# Import the module named mymodule, and access the person1 dictionary:\n",
    "\n",
    "import mymodule\n",
    "\n",
    "a = mymodule.person1[\"age\"]\n",
    "print(a)"
   ]
  },
  {
   "cell_type": "markdown",
   "metadata": {},
   "source": [
    "### Naming a Module\n",
    "You can name the module file whatever you like, but it must have the file extension .py\n",
    "\n",
    "### Re-naming a Module\n",
    "You can create an alias when you import a module, by using the **as** keyword:"
   ]
  },
  {
   "cell_type": "code",
   "execution_count": null,
   "metadata": {
    "collapsed": true
   },
   "outputs": [],
   "source": [
    "# Create an alias for mymodule called mx:\n",
    "\n",
    "import mymodule as mx\n",
    "\n",
    "a = mx.person1[\"age\"]\n",
    "print(a)"
   ]
  },
  {
   "cell_type": "markdown",
   "metadata": {},
   "source": [
    "### Import 'From' Module\n",
    "You can choose to **import** only parts **from** a module, by using the from keyword."
   ]
  },
  {
   "cell_type": "code",
   "execution_count": null,
   "metadata": {
    "collapsed": true
   },
   "outputs": [],
   "source": [
    "# The module named mymodule has one function and one dictionary:\n",
    "\n",
    "def greeting(name):\n",
    "  print(\"Hello, \" + name)\n",
    "\n",
    "person1 = {\n",
    "  \"name\": \"John\",\n",
    "  \"age\": 36,\n",
    "  \"country\": \"Norway\"\n",
    "}\n",
    "\n",
    "\n",
    "# Import only the person1 dictionary from the module:\n",
    "\n",
    "from mymodule import person1\n",
    "\n",
    "print (person1[\"age\"])\n",
    "\n",
    "# Note: When importing using the from keyword, \n",
    "# do not use the module name when referring to elements in the module.\n",
    "\n",
    "# Example: person1[\"age\"],  NOT  mymodule.person1[\"age\"]"
   ]
  },
  {
   "cell_type": "markdown",
   "metadata": {},
   "source": [
    "### 'from...import *' Statement\n",
    "It is also possible to import all the names from a module into the current namespace by using the following import statement −\n",
    "\n",
    ">from modname import *"
   ]
  },
  {
   "cell_type": "markdown",
   "metadata": {},
   "source": [
    "## Built-In Modules\n",
    "\n",
    "There are some libraries which come packaged directly with Python Installation. These libraries are called **Built-In Modules**\n",
    "___"
   ]
  },
  {
   "cell_type": "markdown",
   "metadata": {},
   "source": [
    "### OS Module\n",
    "This module provides a portable way of using operating system dependent functionality."
   ]
  },
  {
   "cell_type": "code",
   "execution_count": null,
   "metadata": {
    "collapsed": true
   },
   "outputs": [],
   "source": [
    "# 0. Import OS module\n",
    "import os\n",
    "\n",
    "# 1. Current working Directory\n",
    "print(os.getcwd())\n",
    "print(os.system(\"pwd\"))\n",
    "\n",
    "# 2. List all Files in a directory\n",
    "print(os.listdir())\n",
    "print(os.system(\"ls\"))\n",
    "\n",
    "# 3. Change Directory\n",
    "os.chdir(\"./../\")\n",
    "\n",
    "# 4. Remove a File\n",
    "os.remove(\"filename.ext\")\n",
    "\n",
    "# 5. Remove entire folder\n",
    "os.rmdir(\"FolderName\")"
   ]
  },
  {
   "cell_type": "markdown",
   "metadata": {},
   "source": [
    "### Math Module\n",
    "\n",
    "It provides access to the mathematical functions defined by the C standard.\n",
    "\n",
    "These functions cannot be used with complex numbers; use the functions of the same name from the cmath module if you require support for complex numbers."
   ]
  },
  {
   "cell_type": "markdown",
   "metadata": {},
   "source": [
    "**Number-theoretic and representation functions**"
   ]
  },
  {
   "cell_type": "code",
   "execution_count": null,
   "metadata": {},
   "outputs": [],
   "source": [
    "import math\n",
    "\n",
    "math.ceil(x)\n",
    "# Return the ceiling of x as a float, the smallest integer value greater than or equal to x.\n",
    "\n",
    "math.floor(x)\n",
    "# Return the floor of x as a float, the largest integer value less than or equal to x.\n",
    "\n",
    "math.copysign(x, y)\n",
    "# Return x with the sign of y. On a platform that supports signed zeros, copysign(1.0, -0.0) returns -1.0.\n",
    "\n",
    "math.fabs(x)\n",
    "# Return the absolute value of x.\n",
    "\n",
    "math.factorial(x)\n",
    "# Return x factorial. Raises ValueError if x is not integral or is negative.\n",
    "\n",
    "math.fmod(x, y)\n",
    "# Return fmod(x, y), as defined by the platform C library. Note that the Python expression x % y may not return the same result. The intent of the C standard is that fmod(x, y) be exactly (mathematically; to infinite precision) equal to x - n*y for some integer n such that the result has the same sign as x and magnitude less than abs(y). Python’s x % y returns a result with the sign of y instead, and may not be exactly computable for float arguments. For example, fmod(-1e-100, 1e100) is -1e-100, but the result of Python’s -1e-100 % 1e100 is 1e100-1e-100, which cannot be represented exactly as a float, and rounds to the surprising 1e100. For this reason, function fmod() is generally preferred when working with floats, while Python’s x % y is preferred when working with integers.\n",
    "\n",
    "math.frexp(x)\n",
    "# Return the mantissa and exponent of x as the pair (m, e). m is a float and e is an integer such that x == m * 2**e exactly. If x is zero, returns (0.0, 0), otherwise 0.5 <= abs(m) < 1. This is used to “pick apart” the internal representation of a float in a portable way.\n",
    "\n",
    "math.fsum(iterable)\n",
    "# Return an accurate floating point sum of values in the iterable. Avoids loss of precision by tracking multiple intermediate partial sums:\n",
    "\n",
    "'''\n",
    ">>> sum([.1, .1, .1, .1, .1, .1, .1, .1, .1, .1])\n",
    "0.9999999999999999\n",
    ">>> fsum([.1, .1, .1, .1, .1, .1, .1, .1, .1, .1])\n",
    "1.0\n",
    "'''\n",
    "\n",
    "math.isinf(x)\n",
    "# Check if the float x is positive or negative infinity.\n",
    "\n",
    "math.isnan(x)\n",
    "# Check if the float x is a NaN (not a number). For more information on NaNs, see the IEEE 754 standards.\n",
    "\n",
    "math.ldexp(x, i)\n",
    "# Return x * (2**i). This is essentially the inverse of function frexp().\n",
    "\n",
    "math.modf(x)\n",
    "# Return the fractional and integer parts of x. Both results carry the sign of x and are floats.\n",
    "\n",
    "math.trunc(x)\n",
    "# Return the Real value x truncated to an Integral (usually a long integer). Uses the __trunc__ method.\n",
    "\n",
    "'''\n",
    "For the ceil(), floor(), and modf() functions, note that \n",
    "all floating-point numbers of sufficiently large magnitude are exact integers.\n",
    "Python floats typically carry no more than 53 bits of precision (the same as the platform C double type), \n",
    "in which case any float x with abs(x) >= 2**52 necessarily has no fractional bits.\n",
    "'''"
   ]
  },
  {
   "cell_type": "markdown",
   "metadata": {},
   "source": [
    "**Power and logarithmic functions**"
   ]
  },
  {
   "cell_type": "code",
   "execution_count": null,
   "metadata": {
    "collapsed": true
   },
   "outputs": [],
   "source": [
    "math.exp(x)\n",
    "# Return e**x.\n",
    "\n",
    "math.expm1(x)\n",
    "# Return e**x - 1. \n",
    "# For small floats x, the subtraction in exp(x) - 1 can result in a significant loss of precision;\n",
    "# the expm1() function provides a way to compute this quantity to full precision:\n",
    "\n",
    "'''\n",
    ">>> from math import exp, expm1\n",
    ">>> exp(1e-5) - 1  # gives result accurate to 11 places\n",
    "1.0000050000069649e-05\n",
    ">>> expm1(1e-5)    # result accurate to full precision\n",
    "1.0000050000166668e-05\n",
    "'''\n",
    "\n",
    "math.log(x[, base])\n",
    "# With one argument, return the natural logarithm of x (to base e).\n",
    "# With two arguments, return the logarithm of x to the given base, calculated as log(x)/log(base).\n",
    "\n",
    "math.log1p(x)\n",
    "# Return the natural logarithm of 1+x (base e).\n",
    "# The result is calculated in a way which is accurate for x near zero.\n",
    "\n",
    "math.log10(x)\n",
    "# Return the base-10 logarithm of x. This is usually more accurate than log(x, 10).\n",
    "\n",
    "math.pow(x, y)\n",
    "# Return x raised to the power y. \n",
    "\n",
    "math.sqrt(x)\n",
    "# Return the square root of x."
   ]
  },
  {
   "cell_type": "markdown",
   "metadata": {},
   "source": [
    "**Trigonometric functions**"
   ]
  },
  {
   "cell_type": "code",
   "execution_count": null,
   "metadata": {
    "collapsed": true
   },
   "outputs": [],
   "source": [
    "math.cos(x)\n",
    "# Return the cosine of x radians.\n",
    "\n",
    "math.sin(x)\n",
    "# Return the sine of x radians.\n",
    "\n",
    "math.tan(x)\n",
    "# Return the tangent of x radians.\n",
    "\n",
    "math.acos(x)\n",
    "# Return the arc cosine of x, in radians.\n",
    "\n",
    "math.asin(x)\n",
    "# Return the arc sine of x, in radians.\n",
    "\n",
    "math.atan(x)\n",
    "# Return the arc tangent of x, in radians.\n",
    "\n",
    "math.atan2(y, x)\n",
    "# Return atan(y / x), in radians. The result is between -pi and pi."
   ]
  },
  {
   "cell_type": "markdown",
   "metadata": {},
   "source": [
    "**Angular conversion**"
   ]
  },
  {
   "cell_type": "code",
   "execution_count": null,
   "metadata": {
    "collapsed": true
   },
   "outputs": [],
   "source": [
    "math.degrees(x)\n",
    "# Convert angle x from radians to degrees.\n",
    "\n",
    "math.radians(x)\n",
    "# Convert angle x from degrees to radians."
   ]
  },
  {
   "cell_type": "markdown",
   "metadata": {},
   "source": [
    "**Special functions & Constants**"
   ]
  },
  {
   "cell_type": "code",
   "execution_count": null,
   "metadata": {
    "collapsed": true
   },
   "outputs": [],
   "source": [
    "math.erf(x)\n",
    "# Return the error function at x.\n",
    "\n",
    "math.erfc(x)\n",
    "# Return the complementary error function at x.\n",
    "\n",
    "math.gamma(x)\n",
    "# Return the Gamma function at x.\n",
    "\n",
    "math.pi\n",
    "# The mathematical constant π = 3.141592…, to available precision.\n",
    "\n",
    "math.e\n",
    "# The mathematical constant e = 2.718281…, to available precision."
   ]
  },
  {
   "cell_type": "markdown",
   "metadata": {},
   "source": [
    "## Installing a Module via Python PIP\n",
    "\n",
    "PIP is a **package manager** for Python packages, or modules if you like.\n",
    "\n",
    "**Note:** If you have Python version 3.4 or later, PIP is included by default.\n",
    "\n",
    "**Navigate your command line or terminal** to use the following. Remove the '!' before each command to work on terminal."
   ]
  },
  {
   "cell_type": "code",
   "execution_count": 11,
   "metadata": {},
   "outputs": [
    {
     "name": "stdout",
     "output_type": "stream",
     "text": [
      "pip 10.0.1 from /Applications/anaconda3/lib/python3.6/site-packages/pip (python 3.6)\r\n"
     ]
    }
   ],
   "source": [
    "# Check PIP version:\n",
    "!pip --version"
   ]
  },
  {
   "cell_type": "code",
   "execution_count": null,
   "metadata": {
    "collapsed": true
   },
   "outputs": [],
   "source": [
    "# Installing a Package\n",
    "!pip install package-name\n",
    "\n",
    "or\n",
    "\n",
    "!pip install package-name == version-no\n",
    "# To download a specific version of the Module or Package"
   ]
  },
  {
   "cell_type": "code",
   "execution_count": null,
   "metadata": {
    "collapsed": true
   },
   "outputs": [],
   "source": [
    "# Remove a Package\n",
    "# Use the uninstall command to remove a package:\n",
    "\n",
    "!pip uninstall package-name"
   ]
  },
  {
   "cell_type": "code",
   "execution_count": null,
   "metadata": {
    "collapsed": true
   },
   "outputs": [],
   "source": [
    "#  List installed packages:\n",
    "\n",
    "!pip list\n",
    "\n",
    "or\n",
    "\n",
    "!pip list | grep numpy"
   ]
  }
 ],
 "metadata": {
  "kernelspec": {
   "display_name": "Python 3",
   "language": "python",
   "name": "python3"
  },
  "language_info": {
   "codemirror_mode": {
    "name": "ipython",
    "version": 3
   },
   "file_extension": ".py",
   "mimetype": "text/x-python",
   "name": "python",
   "nbconvert_exporter": "python",
   "pygments_lexer": "ipython3",
   "version": "3.6.3"
  }
 },
 "nbformat": 4,
 "nbformat_minor": 2
}
